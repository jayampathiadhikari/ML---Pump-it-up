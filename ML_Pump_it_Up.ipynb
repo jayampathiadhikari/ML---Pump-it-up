{
  "nbformat": 4,
  "nbformat_minor": 0,
  "metadata": {
    "colab": {
      "name": "ML - Pump it Up.ipynb",
      "provenance": [],
      "collapsed_sections": [],
      "mount_file_id": "1eqfoUD8RjhjXnS4CJDjjFamxxP6qWcA3",
      "authorship_tag": "ABX9TyPPWyb/I35zgfxULRtJQoow"
    },
    "kernelspec": {
      "name": "python3",
      "display_name": "Python 3"
    },
    "language_info": {
      "name": "python"
    }
  },
  "cells": [
    {
      "cell_type": "markdown",
      "metadata": {
        "id": "o4glo9MrqQbE"
      },
      "source": [
        "# **High cardinality**"
      ]
    },
    {
      "cell_type": "code",
      "metadata": {
        "id": "0ZxRItfYfeJT"
      },
      "source": [
        "import pandas as pd\n",
        "import numpy as np\n",
        "import matplotlib.pyplot as plt\n",
        "import seaborn as sns\n",
        "from sklearn.feature_selection import mutual_info_classif\n",
        "from sklearn.model_selection import train_test_split"
      ],
      "execution_count": null,
      "outputs": []
    },
    {
      "cell_type": "code",
      "metadata": {
        "colab": {
          "base_uri": "https://localhost:8080/"
        },
        "id": "9SpkACjV4FIM",
        "outputId": "30f46ae0-04d2-4697-f308-181e1e1b6a94"
      },
      "source": [
        "from google.colab import drive\n",
        "drive.mount('/content/drive')"
      ],
      "execution_count": null,
      "outputs": [
        {
          "output_type": "stream",
          "name": "stdout",
          "text": [
            "Drive already mounted at /content/drive; to attempt to forcibly remount, call drive.mount(\"/content/drive\", force_remount=True).\n"
          ]
        }
      ]
    },
    {
      "cell_type": "code",
      "metadata": {
        "id": "yNRMP5WMnjyd"
      },
      "source": [
        "train = pd.read_csv('/content/drive/MyDrive/ML - pump it/train_values.csv', index_col='id')\n",
        "train_label = pd.read_csv('/content/drive/MyDrive/ML - pump it/train_label.csv', index_col='id')\n",
        "test_val = pd.read_csv('/content/drive/MyDrive/ML - pump it/test_values.csv', index_col='id')"
      ],
      "execution_count": null,
      "outputs": []
    },
    {
      "cell_type": "code",
      "metadata": {
        "id": "-kEpmQ-ps-bE"
      },
      "source": [
        "train.isnull().sum() * 100 / len(train)"
      ],
      "execution_count": null,
      "outputs": []
    },
    {
      "cell_type": "code",
      "metadata": {
        "id": "oY2aB7S66yjK"
      },
      "source": [
        "test_val.isnull().sum() * 100 / len(test_val)"
      ],
      "execution_count": null,
      "outputs": []
    },
    {
      "cell_type": "code",
      "metadata": {
        "id": "BqlvEMrl6s5q"
      },
      "source": [
        "#null values"
      ],
      "execution_count": null,
      "outputs": []
    },
    {
      "cell_type": "code",
      "metadata": {
        "id": "Xiqp3o2H0_5r"
      },
      "source": [
        "#drop columns\n"
      ],
      "execution_count": null,
      "outputs": []
    },
    {
      "cell_type": "markdown",
      "metadata": {
        "id": "e-0xh46f1EGy"
      },
      "source": [
        "\n",
        "\n",
        "```\n",
        "# This is formatted as code\n",
        "date_recorded - The date the row was entered\n",
        "wpt_name - Name of the waterpoint if there is one\n",
        "num_private\n",
        "recorded_by - Group entering this row of data\n",
        "\n",
        "scheme_management - Who operates the waterpoint\n",
        "scheme_name - Who operates the waterpoint\n",
        "\n",
        "extraction_type - The kind of extraction the waterpoint uses\n",
        "extraction_type_group - The kind of extraction the waterpoint uses\n",
        "extraction_type_class - The kind of extraction the waterpoint uses\n",
        "\n",
        "management - How the waterpoint is managed\n",
        "management_group - How the waterpoint is managed\n",
        "\n",
        "\n",
        "payment - What the water costs\n",
        "payment_type - What the water costs\n",
        "\n",
        "\n",
        "water_quality - The quality of the water\n",
        "quality_group - The quality of the water\n",
        "\n",
        "\n",
        "quantity - The quantity of water\n",
        "quantity_group - The quantity of water\n",
        "\n",
        "\n",
        "source - The source of the water\n",
        "source_type - The source of the water\n",
        "source_class - The source of the water\n",
        "\n",
        "\n",
        "waterpoint_type - The kind of waterpoint\n",
        "waterpoint_type_group - The kind of waterpoint\n",
        "```\n",
        "\n",
        "\n"
      ]
    },
    {
      "cell_type": "code",
      "metadata": {
        "id": "vH9mV_un8O9i"
      },
      "source": [
        "# by instinct drop \"date_recorded\",\"wpt_name\",\"num_private\",\"recorded_by\""
      ],
      "execution_count": null,
      "outputs": []
    },
    {
      "cell_type": "code",
      "metadata": {
        "colab": {
          "base_uri": "https://localhost:8080/"
        },
        "id": "wHnuL7_9-fBB",
        "outputId": "373d5140-34a8-4a95-a82c-f51dad3c04ad"
      },
      "source": [
        "train['extraction_type'].unique()"
      ],
      "execution_count": null,
      "outputs": [
        {
          "output_type": "execute_result",
          "data": {
            "text/plain": [
              "array(['gravity', 'submersible', 'swn 80', 'nira/tanira', 'india mark ii',\n",
              "       'other', 'ksb', 'mono', 'windmill', 'afridev', 'other - rope pump',\n",
              "       'india mark iii', 'other - swn 81', 'other - play pump', 'cemo',\n",
              "       'climax', 'walimi', 'other - mkulima/shinyanga'], dtype=object)"
            ]
          },
          "metadata": {},
          "execution_count": 46
        }
      ]
    },
    {
      "cell_type": "code",
      "metadata": {
        "id": "lYbgWKNr--BQ"
      },
      "source": [
        "plt.figure(figsize=(30,5))\n",
        "sns.countplot(x='extraction_type',data=train)\n",
        "plt.title(\"Count of water points by extraction_type\")"
      ],
      "execution_count": null,
      "outputs": []
    },
    {
      "cell_type": "code",
      "metadata": {
        "colab": {
          "base_uri": "https://localhost:8080/"
        },
        "id": "bp_26ns1-kgJ",
        "outputId": "1e7d11ff-bd70-4df9-d05e-5c3b492230d4"
      },
      "source": [
        "train['extraction_type_group'].unique()"
      ],
      "execution_count": null,
      "outputs": [
        {
          "output_type": "execute_result",
          "data": {
            "text/plain": [
              "array(['gravity', 'submersible', 'swn 80', 'nira/tanira', 'india mark ii',\n",
              "       'other', 'mono', 'wind-powered', 'afridev', 'rope pump',\n",
              "       'india mark iii', 'other handpump', 'other motorpump'],\n",
              "      dtype=object)"
            ]
          },
          "metadata": {},
          "execution_count": 48
        }
      ]
    },
    {
      "cell_type": "code",
      "metadata": {
        "id": "juc8fBh8_JG5"
      },
      "source": [
        "plt.figure(figsize=(30,5))\n",
        "sns.countplot(x='extraction_type_group',data=train)\n",
        "plt.title(\"Count of water points by extraction_type_group\")"
      ],
      "execution_count": null,
      "outputs": []
    },
    {
      "cell_type": "code",
      "metadata": {
        "colab": {
          "base_uri": "https://localhost:8080/"
        },
        "id": "hF4IRihu-mE4",
        "outputId": "e1fd669f-e9e6-4105-8d2a-2b78a690f454"
      },
      "source": [
        "train['extraction_type_class'].unique()"
      ],
      "execution_count": null,
      "outputs": [
        {
          "output_type": "execute_result",
          "data": {
            "text/plain": [
              "array(['gravity', 'submersible', 'handpump', 'other', 'motorpump',\n",
              "       'wind-powered', 'rope pump'], dtype=object)"
            ]
          },
          "metadata": {},
          "execution_count": 50
        }
      ]
    },
    {
      "cell_type": "code",
      "metadata": {
        "id": "TslOtUiU_Q5Z"
      },
      "source": [
        "plt.figure(figsize=(30,5))\n",
        "sns.countplot(x='extraction_type_class',data=train)\n",
        "plt.title(\"Count of water points by extraction_type_class\")"
      ],
      "execution_count": null,
      "outputs": []
    },
    {
      "cell_type": "code",
      "metadata": {
        "id": "qEZXXyXE_Wvh"
      },
      "source": [
        "#drop extraction_type_group extraction_type"
      ],
      "execution_count": null,
      "outputs": []
    },
    {
      "cell_type": "code",
      "metadata": {
        "id": "fJPVz15B_bMp"
      },
      "source": [
        ""
      ],
      "execution_count": null,
      "outputs": []
    },
    {
      "cell_type": "markdown",
      "metadata": {
        "id": "XJk-OQMeEeRg"
      },
      "source": [
        "DROP ALL TOGETHER"
      ]
    },
    {
      "cell_type": "code",
      "metadata": {
        "colab": {
          "base_uri": "https://localhost:8080/"
        },
        "id": "xycvru3JCsc5",
        "outputId": "14cf0eca-f349-44ee-ea80-4c26cd178798"
      },
      "source": [
        "train['scheme_management'].unique()"
      ],
      "execution_count": null,
      "outputs": [
        {
          "output_type": "execute_result",
          "data": {
            "text/plain": [
              "array(['VWC', 'Other', nan, 'Private operator', 'WUG', 'Water Board',\n",
              "       'WUA', 'Water authority', 'Company', 'Parastatal', 'Trust', 'SWC',\n",
              "       'None'], dtype=object)"
            ]
          },
          "metadata": {},
          "execution_count": 62
        }
      ]
    },
    {
      "cell_type": "code",
      "metadata": {
        "id": "YL-ZnunfCynw"
      },
      "source": [
        "plt.figure(figsize=(30,5))\n",
        "sns.countplot(x='scheme_management',data=train)\n",
        "plt.title(\"Count of water points by scheme_management\")"
      ],
      "execution_count": null,
      "outputs": []
    },
    {
      "cell_type": "code",
      "metadata": {
        "colab": {
          "base_uri": "https://localhost:8080/"
        },
        "id": "5Y2j8ItEC8uR",
        "outputId": "1a5ce6de-d1fa-48b1-a08b-ca418a8aecd0"
      },
      "source": [
        "train['scheme_name'].unique()"
      ],
      "execution_count": null,
      "outputs": [
        {
          "output_type": "execute_result",
          "data": {
            "text/plain": [
              "array(['Roman', nan, 'Nyumba ya mungu pipe scheme', ..., 'BL Nsherehehe',\n",
              "       'Magati  gravity spri', 'Mtawanya'], dtype=object)"
            ]
          },
          "metadata": {},
          "execution_count": 65
        }
      ]
    },
    {
      "cell_type": "code",
      "metadata": {
        "id": "0pG7d-4NDWFY"
      },
      "source": [
        "#drop scheme_name scheme_management"
      ],
      "execution_count": null,
      "outputs": []
    },
    {
      "cell_type": "code",
      "metadata": {
        "colab": {
          "base_uri": "https://localhost:8080/"
        },
        "id": "vbcv_y9LAsd5",
        "outputId": "72dfc9a2-02fa-4dc6-e4ab-1525424a2164"
      },
      "source": [
        "train['management'].unique()"
      ],
      "execution_count": null,
      "outputs": [
        {
          "output_type": "execute_result",
          "data": {
            "text/plain": [
              "array(['vwc', 'wug', 'other', 'private operator', 'water board', 'wua',\n",
              "       'company', 'water authority', 'parastatal', 'unknown',\n",
              "       'other - school', 'trust'], dtype=object)"
            ]
          },
          "metadata": {},
          "execution_count": 67
        }
      ]
    },
    {
      "cell_type": "code",
      "metadata": {
        "id": "udjultrYFfb_"
      },
      "source": [
        "plt.figure(figsize=(30,5))\n",
        "sns.countplot(x='management',data=train)\n",
        "plt.title(\"Count of water points by management\")"
      ],
      "execution_count": null,
      "outputs": []
    },
    {
      "cell_type": "code",
      "metadata": {
        "colab": {
          "base_uri": "https://localhost:8080/"
        },
        "id": "l_nkiU83Fago",
        "outputId": "90a423d7-4ce7-4a15-9ea2-d2c5b996278d"
      },
      "source": [
        "train['management_group'].unique()"
      ],
      "execution_count": null,
      "outputs": [
        {
          "output_type": "execute_result",
          "data": {
            "text/plain": [
              "array(['user-group', 'other', 'commercial', 'parastatal', 'unknown'],\n",
              "      dtype=object)"
            ]
          },
          "metadata": {},
          "execution_count": 68
        }
      ]
    },
    {
      "cell_type": "code",
      "metadata": {
        "id": "1R59G72xFiQK"
      },
      "source": [
        "plt.figure(figsize=(30,5))\n",
        "sns.countplot(x='management_group',data=train)\n",
        "plt.title(\"Count of water points by management_group\")"
      ],
      "execution_count": null,
      "outputs": []
    },
    {
      "cell_type": "code",
      "metadata": {
        "id": "nnKaLHu0GA05"
      },
      "source": [
        "# drop management"
      ],
      "execution_count": null,
      "outputs": []
    },
    {
      "cell_type": "markdown",
      "metadata": {
        "id": "45e48rDhGrxQ"
      },
      "source": [
        "payment - What the water costs\n",
        "\n",
        "payment_type - What the water costs"
      ]
    },
    {
      "cell_type": "code",
      "metadata": {
        "colab": {
          "base_uri": "https://localhost:8080/"
        },
        "id": "JFjpljXiIK1X",
        "outputId": "1f3c20e2-e6b0-40e1-fbe1-8e3c67d88a11"
      },
      "source": [
        "train['payment'].unique()"
      ],
      "execution_count": null,
      "outputs": [
        {
          "output_type": "execute_result",
          "data": {
            "text/plain": [
              "array(['pay annually', 'never pay', 'pay per bucket', 'unknown',\n",
              "       'pay when scheme fails', 'other', 'pay monthly'], dtype=object)"
            ]
          },
          "metadata": {},
          "execution_count": 71
        }
      ]
    },
    {
      "cell_type": "code",
      "metadata": {
        "id": "Iip7l_kJIRTC"
      },
      "source": [
        "plt.figure(figsize=(30,5))\n",
        "sns.countplot(x='payment',data=train)\n",
        "plt.title(\"Count of water points by payment\")"
      ],
      "execution_count": null,
      "outputs": []
    },
    {
      "cell_type": "code",
      "metadata": {
        "colab": {
          "base_uri": "https://localhost:8080/"
        },
        "id": "ASBw8KhWIXoo",
        "outputId": "8437a262-a793-4afb-fcfc-bc334a143d48"
      },
      "source": [
        "train['payment_type'].unique()"
      ],
      "execution_count": null,
      "outputs": [
        {
          "output_type": "execute_result",
          "data": {
            "text/plain": [
              "array(['annually', 'never pay', 'per bucket', 'unknown', 'on failure',\n",
              "       'other', 'monthly'], dtype=object)"
            ]
          },
          "metadata": {},
          "execution_count": 73
        }
      ]
    },
    {
      "cell_type": "code",
      "metadata": {
        "id": "bleh6X6DIcea"
      },
      "source": [
        "plt.figure(figsize=(30,5))\n",
        "sns.countplot(x='payment_type',data=train)\n",
        "plt.title(\"Count of water points by payment_type\")"
      ],
      "execution_count": null,
      "outputs": []
    },
    {
      "cell_type": "code",
      "metadata": {
        "id": "qHH7h08MIoiA"
      },
      "source": [
        "# drop either payment or payment_type"
      ],
      "execution_count": null,
      "outputs": []
    },
    {
      "cell_type": "markdown",
      "metadata": {
        "id": "_E8kXWw6I6Mw"
      },
      "source": [
        "water_quality - The quality of the water\n",
        "\n",
        "quality_group - The quality of the water"
      ]
    },
    {
      "cell_type": "code",
      "metadata": {
        "colab": {
          "base_uri": "https://localhost:8080/"
        },
        "id": "SrKQ_4FBJYGC",
        "outputId": "b400d2ff-472f-4f38-cac9-ba32a6713be1"
      },
      "source": [
        "train['water_quality'].unique()"
      ],
      "execution_count": null,
      "outputs": [
        {
          "output_type": "execute_result",
          "data": {
            "text/plain": [
              "array(['soft', 'salty', 'milky', 'unknown', 'fluoride', 'coloured',\n",
              "       'salty abandoned', 'fluoride abandoned'], dtype=object)"
            ]
          },
          "metadata": {},
          "execution_count": 75
        }
      ]
    },
    {
      "cell_type": "code",
      "metadata": {
        "id": "iPsYb57LJbdI"
      },
      "source": [
        "plt.figure(figsize=(30,5))\n",
        "sns.countplot(x='water_quality',data=train)\n",
        "plt.title(\"Count of water points by water_quality\")"
      ],
      "execution_count": null,
      "outputs": []
    },
    {
      "cell_type": "code",
      "metadata": {
        "colab": {
          "base_uri": "https://localhost:8080/"
        },
        "id": "dIhWzc17Jf84",
        "outputId": "cab95c1e-4fa4-4ad0-9179-307feb008d32"
      },
      "source": [
        "train['quality_group'].unique()"
      ],
      "execution_count": null,
      "outputs": [
        {
          "output_type": "execute_result",
          "data": {
            "text/plain": [
              "array(['good', 'salty', 'milky', 'unknown', 'fluoride', 'colored'],\n",
              "      dtype=object)"
            ]
          },
          "metadata": {},
          "execution_count": 77
        }
      ]
    },
    {
      "cell_type": "code",
      "metadata": {
        "id": "SRHgWenQJkUv"
      },
      "source": [
        "plt.figure(figsize=(30,5))\n",
        "sns.countplot(x='quality_group',data=train)\n",
        "plt.title(\"Count of water points by quality_group\")"
      ],
      "execution_count": null,
      "outputs": []
    },
    {
      "cell_type": "code",
      "metadata": {
        "id": "xoizkvKuJtzG"
      },
      "source": [
        "# drop quality_group"
      ],
      "execution_count": null,
      "outputs": []
    },
    {
      "cell_type": "markdown",
      "metadata": {
        "id": "3sQq8O_SJtCn"
      },
      "source": [
        "quantity - The quantity of water\n",
        "\n",
        "quantity_group - The quantity of water"
      ]
    },
    {
      "cell_type": "code",
      "metadata": {
        "colab": {
          "base_uri": "https://localhost:8080/"
        },
        "id": "Q7CFC7QWJ8S-",
        "outputId": "2fc7a80f-5112-46d4-ff5b-bdedaa122b74"
      },
      "source": [
        "train['quantity'].unique()"
      ],
      "execution_count": null,
      "outputs": [
        {
          "output_type": "execute_result",
          "data": {
            "text/plain": [
              "array(['enough', 'insufficient', 'dry', 'seasonal', 'unknown'],\n",
              "      dtype=object)"
            ]
          },
          "metadata": {},
          "execution_count": 79
        }
      ]
    },
    {
      "cell_type": "code",
      "metadata": {
        "id": "mWlbDoRWKCNW"
      },
      "source": [
        "plt.figure(figsize=(30,5))\n",
        "sns.countplot(x='quantity',data=train)\n",
        "plt.title(\"Count of water points by quantity\")"
      ],
      "execution_count": null,
      "outputs": []
    },
    {
      "cell_type": "code",
      "metadata": {
        "colab": {
          "base_uri": "https://localhost:8080/"
        },
        "id": "dLeaOrPYKF-H",
        "outputId": "df8d3457-c67f-42f2-8e85-098da222dfbb"
      },
      "source": [
        "train['quantity_group'].unique()"
      ],
      "execution_count": null,
      "outputs": [
        {
          "output_type": "execute_result",
          "data": {
            "text/plain": [
              "array(['enough', 'insufficient', 'dry', 'seasonal', 'unknown'],\n",
              "      dtype=object)"
            ]
          },
          "metadata": {},
          "execution_count": 81
        }
      ]
    },
    {
      "cell_type": "code",
      "metadata": {
        "id": "asGaTSz8KMEH"
      },
      "source": [
        "plt.figure(figsize=(30,5))\n",
        "sns.countplot(x='quantity_group',data=train)\n",
        "plt.title(\"Count of water points by quantity_group\")"
      ],
      "execution_count": null,
      "outputs": []
    },
    {
      "cell_type": "code",
      "metadata": {
        "id": "igi81KKSKQP3"
      },
      "source": [
        "# drop quantity_group"
      ],
      "execution_count": null,
      "outputs": []
    },
    {
      "cell_type": "markdown",
      "metadata": {
        "id": "HMa7sIobKhc2"
      },
      "source": [
        "source - The source of the water\n",
        "\n",
        "source_type - The source of the water\n",
        "\n",
        "source_class - The source of the water"
      ]
    },
    {
      "cell_type": "code",
      "metadata": {
        "colab": {
          "base_uri": "https://localhost:8080/"
        },
        "id": "lRCJGWTZLeYn",
        "outputId": "8f60a173-d5fc-4651-f77d-6c8776416a25"
      },
      "source": [
        "train['source'].unique()"
      ],
      "execution_count": null,
      "outputs": [
        {
          "output_type": "execute_result",
          "data": {
            "text/plain": [
              "array(['spring', 'rainwater harvesting', 'dam', 'machine dbh', 'other',\n",
              "       'shallow well', 'river', 'hand dtw', 'lake', 'unknown'],\n",
              "      dtype=object)"
            ]
          },
          "metadata": {},
          "execution_count": 83
        }
      ]
    },
    {
      "cell_type": "code",
      "metadata": {
        "id": "wpqNdEGnLrH7"
      },
      "source": [
        "plt.figure(figsize=(30,5))\n",
        "sns.countplot(x='source',data=train)\n",
        "plt.title(\"Count of water points by source\")"
      ],
      "execution_count": null,
      "outputs": []
    },
    {
      "cell_type": "code",
      "metadata": {
        "colab": {
          "base_uri": "https://localhost:8080/"
        },
        "id": "_gphCxArLgl-",
        "outputId": "d742950f-5df4-4abb-f35f-7c981b03ecf9"
      },
      "source": [
        "train['source_type'].unique()"
      ],
      "execution_count": null,
      "outputs": [
        {
          "output_type": "execute_result",
          "data": {
            "text/plain": [
              "array(['spring', 'rainwater harvesting', 'dam', 'borehole', 'other',\n",
              "       'shallow well', 'river/lake'], dtype=object)"
            ]
          },
          "metadata": {},
          "execution_count": 84
        }
      ]
    },
    {
      "cell_type": "code",
      "metadata": {
        "id": "7N5IIzESLx6v"
      },
      "source": [
        "plt.figure(figsize=(30,5))\n",
        "sns.countplot(x='source_type',data=train)\n",
        "plt.title(\"Count of water points by source_type\")"
      ],
      "execution_count": null,
      "outputs": []
    },
    {
      "cell_type": "code",
      "metadata": {
        "colab": {
          "base_uri": "https://localhost:8080/"
        },
        "id": "Lban8V1_LjZZ",
        "outputId": "44fe1d48-2d1f-4e63-bbc0-d371022ab78d"
      },
      "source": [
        "train['source_class'].unique()"
      ],
      "execution_count": null,
      "outputs": [
        {
          "output_type": "execute_result",
          "data": {
            "text/plain": [
              "array(['groundwater', 'surface', 'unknown'], dtype=object)"
            ]
          },
          "metadata": {},
          "execution_count": 85
        }
      ]
    },
    {
      "cell_type": "code",
      "metadata": {
        "id": "UZVTiiPTL4Wz"
      },
      "source": [
        "plt.figure(figsize=(30,5))\n",
        "sns.countplot(x='source_class',data=train)\n",
        "plt.title(\"Count of water points by source_class\")"
      ],
      "execution_count": null,
      "outputs": []
    },
    {
      "cell_type": "code",
      "metadata": {
        "id": "G42vOkHBMFY6"
      },
      "source": [
        "# drop source_class source_type"
      ],
      "execution_count": null,
      "outputs": []
    },
    {
      "cell_type": "markdown",
      "metadata": {
        "id": "4Mb8cbDBOudO"
      },
      "source": [
        "waterpoint_type - The kind of waterpoint\n",
        "\n",
        "waterpoint_type_group - The kind of waterpoint"
      ]
    },
    {
      "cell_type": "code",
      "metadata": {
        "colab": {
          "base_uri": "https://localhost:8080/"
        },
        "id": "BadIyWUpO5gg",
        "outputId": "8f9ba7a7-671e-47a0-ae86-bedbe7e8898a"
      },
      "source": [
        "train['waterpoint_type'].unique()"
      ],
      "execution_count": null,
      "outputs": [
        {
          "output_type": "execute_result",
          "data": {
            "text/plain": [
              "array(['communal standpipe', 'communal standpipe multiple', 'hand pump',\n",
              "       'other', 'improved spring', 'cattle trough', 'dam'], dtype=object)"
            ]
          },
          "metadata": {},
          "execution_count": 90
        }
      ]
    },
    {
      "cell_type": "code",
      "metadata": {
        "id": "v4YrStd8O76l"
      },
      "source": [
        "plt.figure(figsize=(30,5))\n",
        "sns.countplot(x='waterpoint_type',data=train)\n",
        "plt.title(\"Count of water points by waterpoint_type\")"
      ],
      "execution_count": null,
      "outputs": []
    },
    {
      "cell_type": "code",
      "metadata": {
        "id": "ULJDp0XiO_D1"
      },
      "source": [
        "train['waterpoint_type_group'].unique()"
      ],
      "execution_count": null,
      "outputs": []
    },
    {
      "cell_type": "code",
      "metadata": {
        "id": "1UdEDbHRPC2b"
      },
      "source": [
        "plt.figure(figsize=(30,5))\n",
        "sns.countplot(x='waterpoint_type_group',data=train)\n",
        "plt.title(\"Count of water points by waterpoint_type_group\")"
      ],
      "execution_count": null,
      "outputs": []
    },
    {
      "cell_type": "code",
      "metadata": {
        "id": "HVI0TwytPTJq"
      },
      "source": [
        "#drop extraction_type_group extraction_type\n",
        "#drop scheme_name scheme_management\n",
        "# drop management\n",
        "# drop either payment or payment_type\n",
        "# drop quality group\n",
        "# drop quantity_group\n",
        "# drop source_class source_type\n",
        "# drop waterpoint_type_group"
      ],
      "execution_count": null,
      "outputs": []
    },
    {
      "cell_type": "code",
      "metadata": {
        "id": "jxNvXo8oSdXN"
      },
      "source": [
        "train = train.drop([\"date_recorded\",\"wpt_name\",\"num_private\",\"recorded_by\",\"extraction_type_group\",\"extraction_type\",\"scheme_name\",\"scheme_management\", \"management\", \"payment_type\", \"quality_group\", \"quantity_group\", \"source_class\", \"source_type\",\"waterpoint_type_group\"], axis= 1)\n",
        "test_val = test_val.drop([\"date_recorded\",\"wpt_name\",\"num_private\",\"recorded_by\",\"extraction_type_group\",\"extraction_type\", \"scheme_name\",\"scheme_management\", \"management\", \"payment_type\", \"quality_group\", \"quantity_group\", \"source_class\", \"source_type\",\"waterpoint_type_group\"], axis= 1)"
      ],
      "execution_count": null,
      "outputs": []
    },
    {
      "cell_type": "code",
      "metadata": {
        "id": "-VbBab0DtnVz"
      },
      "source": [
        "num_cols_train = train.select_dtypes('number').columns\n",
        "print(num_cols_train)"
      ],
      "execution_count": null,
      "outputs": []
    },
    {
      "cell_type": "code",
      "metadata": {
        "id": "boj8H1cYVBeM"
      },
      "source": [
        "train.isnull().sum() * 100 / len(train)"
      ],
      "execution_count": null,
      "outputs": []
    },
    {
      "cell_type": "code",
      "metadata": {
        "id": "8My4xPuaXKZt"
      },
      "source": [
        "train.groupby(['management_group','public_meeting']).count()"
      ],
      "execution_count": null,
      "outputs": []
    },
    {
      "cell_type": "code",
      "metadata": {
        "id": "sKHdnF1_clir"
      },
      "source": [
        "# drop lon lat region"
      ],
      "execution_count": null,
      "outputs": []
    },
    {
      "cell_type": "code",
      "metadata": {
        "id": "D0L1TuFfdBv1"
      },
      "source": [
        "train['region_code'].unique()"
      ],
      "execution_count": null,
      "outputs": []
    },
    {
      "cell_type": "code",
      "metadata": {
        "id": "I0198TI5dFsL"
      },
      "source": [
        "plt.figure(figsize=(30,5))\n",
        "sns.countplot(x='region_code',data=train)\n",
        "plt.title(\"Count of water points by region_code\")"
      ],
      "execution_count": null,
      "outputs": []
    },
    {
      "cell_type": "code",
      "metadata": {
        "id": "GBTrFncUdKoa"
      },
      "source": [
        "plt.figure(figsize=(30,5))\n",
        "sns.countplot(x='district_code',data=train)\n",
        "plt.title(\"Count of water points by district_code\")"
      ],
      "execution_count": null,
      "outputs": []
    },
    {
      "cell_type": "code",
      "metadata": {
        "id": "_xagXV65d04j"
      },
      "source": [
        "plt.figure(figsize=(30,5))\n",
        "sns.countplot(x='lga',data=train)\n",
        "plt.title(\"Count of water points by lga\")"
      ],
      "execution_count": null,
      "outputs": []
    },
    {
      "cell_type": "code",
      "metadata": {
        "id": "OUshXtKFnv7r"
      },
      "source": [
        "train[\"construction_year\"].unique()"
      ],
      "execution_count": null,
      "outputs": []
    },
    {
      "cell_type": "markdown",
      "metadata": {
        "id": "BTOTTizUE91O"
      },
      "source": [
        "# Construction Year"
      ]
    },
    {
      "cell_type": "code",
      "metadata": {
        "id": "s_weRb5MomQ5"
      },
      "source": [
        "cut_grades = [0, 1, 2, 3, 4,5,6]\n",
        "cut_bins =[-1, 1960, 1970, 1980, 1990, 2000, 2010, 2020]\n",
        "train['year'] = pd.cut(train[\"construction_year\"], bins=cut_bins, labels = cut_grades)"
      ],
      "execution_count": null,
      "outputs": []
    },
    {
      "cell_type": "code",
      "metadata": {
        "id": "3j3y_z3oKtpj"
      },
      "source": [
        "test_val['year'] = pd.cut(test_val[\"construction_year\"], bins=cut_bins, labels = cut_grades)"
      ],
      "execution_count": null,
      "outputs": []
    },
    {
      "cell_type": "code",
      "metadata": {
        "id": "p3-KfMZWISOj"
      },
      "source": [
        "# drop construction_year // # drop ward maybe lga // # drop lon lat region"
      ],
      "execution_count": null,
      "outputs": []
    },
    {
      "cell_type": "code",
      "metadata": {
        "id": "ip5Od6JuIMTP"
      },
      "source": [
        "train = train.drop([\"construction_year\",\"ward\", \"lga\", \"longitude\", \"latitude\",\"region\", \"subvillage\"], axis= 1)\n",
        "test_val = test_val.drop([\"construction_year\",\"ward\", \"lga\", \"longitude\", \"latitude\", \"region\", \"subvillage\"], axis= 1)"
      ],
      "execution_count": null,
      "outputs": []
    },
    {
      "cell_type": "code",
      "metadata": {
        "colab": {
          "base_uri": "https://localhost:8080/"
        },
        "id": "lnJ3ddJAwczQ",
        "outputId": "dc4a4da0-e31c-4277-db5a-14ab0cc1851b"
      },
      "source": [
        "train['funder'].value_counts()"
      ],
      "execution_count": null,
      "outputs": [
        {
          "output_type": "execute_result",
          "data": {
            "text/plain": [
              "Government Of Tanzania          9084\n",
              "Danida                          3114\n",
              "Hesawa                          2202\n",
              "Rwssp                           1374\n",
              "World Bank                      1349\n",
              "                                ... \n",
              "Taes                               1\n",
              "Gerald Tuseko Gro                  1\n",
              "Worldvision                        1\n",
              "Sister Makulata                    1\n",
              "Mwalimu  Maneromango Muhenzi       1\n",
              "Name: funder, Length: 1897, dtype: int64"
            ]
          },
          "metadata": {},
          "execution_count": 25
        }
      ]
    },
    {
      "cell_type": "code",
      "metadata": {
        "colab": {
          "base_uri": "https://localhost:8080/"
        },
        "id": "ozykrSkswg6E",
        "outputId": "9ac3b4d2-ebbd-4160-cce0-138a7dd5ae56"
      },
      "source": [
        "train['installer'].value_counts()"
      ],
      "execution_count": null,
      "outputs": [
        {
          "output_type": "execute_result",
          "data": {
            "text/plain": [
              "DWE                      17402\n",
              "Government                1825\n",
              "RWE                       1206\n",
              "Commu                     1060\n",
              "DANIDA                    1050\n",
              "                         ...  \n",
              "Government /Community        1\n",
              "Steven Nyangarika            1\n",
              "Primo                        1\n",
              "TASAFcitizen and LGA         1\n",
              "Staford Higima               1\n",
              "Name: installer, Length: 2145, dtype: int64"
            ]
          },
          "metadata": {},
          "execution_count": 26
        }
      ]
    },
    {
      "cell_type": "code",
      "metadata": {
        "colab": {
          "base_uri": "https://localhost:8080/"
        },
        "id": "xmv6wkwRwkk0",
        "outputId": "6defb882-24db-483b-bae8-4990f82bc924"
      },
      "source": [
        "train['public_meeting'].value_counts()"
      ],
      "execution_count": null,
      "outputs": [
        {
          "output_type": "execute_result",
          "data": {
            "text/plain": [
              "True     51011\n",
              "False     5055\n",
              "Name: public_meeting, dtype: int64"
            ]
          },
          "metadata": {},
          "execution_count": 27
        }
      ]
    },
    {
      "cell_type": "code",
      "metadata": {
        "colab": {
          "base_uri": "https://localhost:8080/"
        },
        "id": "xNJwKHjUwqKk",
        "outputId": "aab8f807-703c-46d8-a038-924e09b3a899"
      },
      "source": [
        "train['permit'].value_counts()"
      ],
      "execution_count": null,
      "outputs": [
        {
          "output_type": "execute_result",
          "data": {
            "text/plain": [
              "True     38852\n",
              "False    17492\n",
              "Name: permit, dtype: int64"
            ]
          },
          "metadata": {},
          "execution_count": 28
        }
      ]
    },
    {
      "cell_type": "code",
      "metadata": {
        "id": "kTvBn4fRwuxj"
      },
      "source": [
        "train['funder'].fillna(value=\"Government Of Tanzania\",inplace=True)\n",
        "test_val['funder'].fillna(value=\"Government Of Tanzania\",inplace=True)"
      ],
      "execution_count": null,
      "outputs": []
    },
    {
      "cell_type": "code",
      "metadata": {
        "id": "fu_LG_PY0Idr"
      },
      "source": [
        "train['installer'].fillna(value=\"DWE\",inplace=True)\n",
        "test_val['installer'].fillna(value=\"DWE\",inplace=True)"
      ],
      "execution_count": null,
      "outputs": []
    },
    {
      "cell_type": "code",
      "metadata": {
        "id": "inz9QE3-1NNU"
      },
      "source": [
        "train['public_meeting'].fillna(value=True,inplace=True)\n",
        "test_val['public_meeting'].fillna(value=True,inplace=True)"
      ],
      "execution_count": null,
      "outputs": []
    },
    {
      "cell_type": "code",
      "metadata": {
        "id": "11r1dRF21V9s"
      },
      "source": [
        "train['permit'].fillna(value=True,inplace=True)\n",
        "test_val['permit'].fillna(value=True,inplace=True)"
      ],
      "execution_count": null,
      "outputs": []
    },
    {
      "cell_type": "code",
      "metadata": {
        "id": "Qttc7KUKpYNe"
      },
      "source": [
        "train.to_csv('/content/drive/MyDrive/ML - pump it/feature_train_full.csv')\n",
        "test_val.to_csv('/content/drive/MyDrive/ML - pump it/feature_eval_full.csv')"
      ],
      "execution_count": null,
      "outputs": []
    },
    {
      "cell_type": "code",
      "metadata": {
        "id": "6N38Ib3fTQ4Z"
      },
      "source": [
        "!pip install catboost"
      ],
      "execution_count": null,
      "outputs": []
    },
    {
      "cell_type": "code",
      "metadata": {
        "id": "Bo0S5IoPTBIV"
      },
      "source": [
        "from catboost import CatBoostClassifier, Pool\n",
        "from sklearn.impute import SimpleImputer\n",
        "from sklearn.preprocessing import OrdinalEncoder\n",
        "from sklearn.preprocessing import OneHotEncoder"
      ],
      "execution_count": null,
      "outputs": []
    },
    {
      "cell_type": "code",
      "metadata": {
        "id": "efMK3jCWo8nU"
      },
      "source": [
        "train[[\"public_meeting\", \"permit\"]] = train[[\"public_meeting\", \"permit\"]].fillna(-1)"
      ],
      "execution_count": null,
      "outputs": []
    },
    {
      "cell_type": "code",
      "metadata": {
        "id": "4_dr7IIVpEHF"
      },
      "source": [
        "test_val[[\"public_meeting\", \"permit\"]] = test_val[[\"public_meeting\", \"permit\"]].fillna(-1)"
      ],
      "execution_count": null,
      "outputs": []
    },
    {
      "cell_type": "code",
      "metadata": {
        "id": "A2KzvPOMlUh1"
      },
      "source": [
        "categories = [False, True, -1]\n",
        "encoder = OrdinalEncoder(categories=[categories])\n",
        "train[\"public_meeting\"] = encoder.fit_transform(train[[\"public_meeting\"]])\n",
        "test_val[\"public_meeting\"] = encoder.fit_transform(test_val[[\"public_meeting\"]])"
      ],
      "execution_count": null,
      "outputs": []
    },
    {
      "cell_type": "code",
      "metadata": {
        "id": "Xc__8SL0vBez"
      },
      "source": [
        "train[\"permit\"] = encoder.fit_transform(train[[\"permit\"]])\n",
        "test_val[\"permit\"] = encoder.fit_transform(test_val[[\"permit\"]])"
      ],
      "execution_count": null,
      "outputs": []
    },
    {
      "cell_type": "code",
      "metadata": {
        "id": "hW8gRS0MuutL"
      },
      "source": [
        "train[\"public_meeting\"] = train[\"public_meeting\"].replace(to_replace =[2.0], value = -1.0)"
      ],
      "execution_count": null,
      "outputs": []
    },
    {
      "cell_type": "code",
      "metadata": {
        "id": "qYSTKiZxvamT"
      },
      "source": [
        "train[\"permit\"] = train[\"permit\"].replace(to_replace =[2.0], value = -1.0)\n",
        "test_val[\"public_meeting\"] = test_val[\"public_meeting\"].replace(to_replace =[2.0], value = -1.0)\n",
        "test_val[\"permit\"] = test_val[\"permit\"].replace(to_replace =[2.0], value = -1.0)"
      ],
      "execution_count": null,
      "outputs": []
    },
    {
      "cell_type": "code",
      "metadata": {
        "id": "PflK9L43yVQr"
      },
      "source": [
        "train[\"funder\"] = train[\"funder\"].fillna(train[\"funder\"].mode().iloc[0])"
      ],
      "execution_count": null,
      "outputs": []
    },
    {
      "cell_type": "code",
      "metadata": {
        "id": "Gn5X2eoR4WcE"
      },
      "source": [
        "train[\"installer\"] = train[\"installer\"].fillna(train[\"installer\"].mode().iloc[0])"
      ],
      "execution_count": null,
      "outputs": []
    },
    {
      "cell_type": "code",
      "metadata": {
        "id": "1VPpB5Pd4a9Q"
      },
      "source": [
        "test_val[\"funder\"] = test_val[\"funder\"].fillna(test_val[\"funder\"].mode().iloc[0])\n",
        "test_val[\"installer\"] = test_val[\"installer\"].fillna(test_val[\"installer\"].mode().iloc[0])"
      ],
      "execution_count": null,
      "outputs": []
    },
    {
      "cell_type": "code",
      "metadata": {
        "id": "6fPoSD1N79Un"
      },
      "source": [
        "# need to encode cat data"
      ],
      "execution_count": null,
      "outputs": []
    },
    {
      "cell_type": "code",
      "metadata": {
        "id": "kUffoHpSEWcZ"
      },
      "source": [
        "categories = [\"funder\",\"installer\",\"basin\",\"extraction_type_class\",\"management_group\",\"payment\", \"water_quality\",\"quantity\",\"source\",\"waterpoint_type\", \"year\"]\n",
        "train = pd.get_dummies(train, columns=categories)\n",
        "test_val = pd.get_dummies(test_val, columns=categories)"
      ],
      "execution_count": null,
      "outputs": []
    },
    {
      "cell_type": "code",
      "metadata": {
        "id": "D6jb4L6yTs6w"
      },
      "source": [
        "Feature_train, Feature_eval, Label_train, Label_eval = train_test_split(\n",
        "    train,\n",
        "    train_label,\n",
        "    test_size=0.2,\n",
        ")"
      ],
      "execution_count": null,
      "outputs": []
    },
    {
      "cell_type": "code",
      "metadata": {
        "id": "et3M7VEj6voI"
      },
      "source": [
        "model = CatBoostClassifier(learning_rate=0.03)"
      ],
      "execution_count": null,
      "outputs": []
    },
    {
      "cell_type": "code",
      "metadata": {
        "id": "GnhzHYJD7ZoR"
      },
      "source": [
        "eval_dataset = Pool(Feature_eval, Label_eval)"
      ],
      "execution_count": null,
      "outputs": []
    },
    {
      "cell_type": "code",
      "metadata": {
        "colab": {
          "base_uri": "https://localhost:8080/"
        },
        "id": "a9GfSH207FBZ",
        "outputId": "338f8e69-fbe2-4e71-f111-3ae535758ca2"
      },
      "source": [
        "model.fit(Feature_train,\n",
        "          Label_train,\n",
        "          eval_set=eval_dataset,\n",
        "          verbose=False)"
      ],
      "execution_count": null,
      "outputs": [
        {
          "output_type": "execute_result",
          "data": {
            "text/plain": [
              "<catboost.core.CatBoostClassifier at 0x7fadb7c5b350>"
            ]
          },
          "metadata": {},
          "execution_count": 155
        }
      ]
    },
    {
      "cell_type": "code",
      "metadata": {
        "colab": {
          "base_uri": "https://localhost:8080/"
        },
        "id": "rnCNHt3zI4RE",
        "outputId": "c9da7df2-f86e-4466-8389-42887527c72c"
      },
      "source": [
        "print(model.get_best_score())"
      ],
      "execution_count": null,
      "outputs": [
        {
          "output_type": "stream",
          "name": "stdout",
          "text": [
            "{'learn': {'MultiClass': 0.5656642036121684}, 'validation': {'MultiClass': 0.5728418652036191}}\n"
          ]
        }
      ]
    },
    {
      "cell_type": "code",
      "metadata": {
        "id": "TLIyRjzQSbLt"
      },
      "source": [
        "train.head()"
      ],
      "execution_count": null,
      "outputs": []
    },
    {
      "cell_type": "code",
      "metadata": {
        "colab": {
          "base_uri": "https://localhost:8080/"
        },
        "id": "7G9677AvTD-6",
        "outputId": "83113942-071e-4a1a-becb-6da7556a1beb"
      },
      "source": [
        "train.columns"
      ],
      "execution_count": null,
      "outputs": [
        {
          "output_type": "execute_result",
          "data": {
            "text/plain": [
              "Index(['amount_tsh', 'gps_height', 'region_code', 'district_code',\n",
              "       'population', 'public_meeting', 'permit', 'funder_0',\n",
              "       'funder_A/co Germany', 'funder_Aar',\n",
              "       ...\n",
              "       'waterpoint_type_hand pump', 'waterpoint_type_improved spring',\n",
              "       'waterpoint_type_other', 'year_-1', 'year_1', 'year_2', 'year_3',\n",
              "       'year_4', 'year_5', 'year_6'],\n",
              "      dtype='object', length=4114)"
            ]
          },
          "metadata": {},
          "execution_count": 160
        }
      ]
    },
    {
      "cell_type": "code",
      "metadata": {
        "id": "CSk_wfj8SMzb"
      },
      "source": [
        "test_val = test_val.reindex(columns=train.columns)"
      ],
      "execution_count": null,
      "outputs": []
    },
    {
      "cell_type": "code",
      "metadata": {
        "id": "l1IgsYOVR5HT"
      },
      "source": [
        "preds_class = model.predict(test_val)"
      ],
      "execution_count": null,
      "outputs": []
    },
    {
      "cell_type": "code",
      "metadata": {
        "id": "tZuf-jiWUGRV"
      },
      "source": [
        "pred = pd.DataFrame(preds_class)"
      ],
      "execution_count": null,
      "outputs": []
    },
    {
      "cell_type": "code",
      "metadata": {
        "id": "piCsCdDPUaw6"
      },
      "source": [
        "pred.index = test_val.index"
      ],
      "execution_count": null,
      "outputs": []
    },
    {
      "cell_type": "code",
      "metadata": {
        "colab": {
          "base_uri": "https://localhost:8080/",
          "height": 235
        },
        "id": "2CGWiPmKUge4",
        "outputId": "7f364829-244d-4c67-bf96-0dc266300e6f"
      },
      "source": [
        "pred.head()"
      ],
      "execution_count": null,
      "outputs": [
        {
          "output_type": "execute_result",
          "data": {
            "text/html": [
              "<div>\n",
              "<style scoped>\n",
              "    .dataframe tbody tr th:only-of-type {\n",
              "        vertical-align: middle;\n",
              "    }\n",
              "\n",
              "    .dataframe tbody tr th {\n",
              "        vertical-align: top;\n",
              "    }\n",
              "\n",
              "    .dataframe thead th {\n",
              "        text-align: right;\n",
              "    }\n",
              "</style>\n",
              "<table border=\"1\" class=\"dataframe\">\n",
              "  <thead>\n",
              "    <tr style=\"text-align: right;\">\n",
              "      <th></th>\n",
              "      <th>0</th>\n",
              "    </tr>\n",
              "    <tr>\n",
              "      <th>id</th>\n",
              "      <th></th>\n",
              "    </tr>\n",
              "  </thead>\n",
              "  <tbody>\n",
              "    <tr>\n",
              "      <th>50785</th>\n",
              "      <td>functional</td>\n",
              "    </tr>\n",
              "    <tr>\n",
              "      <th>51630</th>\n",
              "      <td>functional</td>\n",
              "    </tr>\n",
              "    <tr>\n",
              "      <th>17168</th>\n",
              "      <td>functional</td>\n",
              "    </tr>\n",
              "    <tr>\n",
              "      <th>45559</th>\n",
              "      <td>non functional</td>\n",
              "    </tr>\n",
              "    <tr>\n",
              "      <th>49871</th>\n",
              "      <td>functional</td>\n",
              "    </tr>\n",
              "  </tbody>\n",
              "</table>\n",
              "</div>"
            ],
            "text/plain": [
              "                    0\n",
              "id                   \n",
              "50785      functional\n",
              "51630      functional\n",
              "17168      functional\n",
              "45559  non functional\n",
              "49871      functional"
            ]
          },
          "metadata": {},
          "execution_count": 186
        }
      ]
    },
    {
      "cell_type": "code",
      "metadata": {
        "id": "O1AVo962TxGZ"
      },
      "source": [
        "test_val[\"status_group\"] = pred"
      ],
      "execution_count": null,
      "outputs": []
    },
    {
      "cell_type": "code",
      "metadata": {
        "colab": {
          "base_uri": "https://localhost:8080/",
          "height": 335
        },
        "id": "65fNGQ8GVHCF",
        "outputId": "d2575640-d8d9-4d83-cba8-3729c97756f0"
      },
      "source": [
        "test_val.head()"
      ],
      "execution_count": null,
      "outputs": [
        {
          "output_type": "execute_result",
          "data": {
            "text/html": [
              "<div>\n",
              "<style scoped>\n",
              "    .dataframe tbody tr th:only-of-type {\n",
              "        vertical-align: middle;\n",
              "    }\n",
              "\n",
              "    .dataframe tbody tr th {\n",
              "        vertical-align: top;\n",
              "    }\n",
              "\n",
              "    .dataframe thead th {\n",
              "        text-align: right;\n",
              "    }\n",
              "</style>\n",
              "<table border=\"1\" class=\"dataframe\">\n",
              "  <thead>\n",
              "    <tr style=\"text-align: right;\">\n",
              "      <th></th>\n",
              "      <th>amount_tsh</th>\n",
              "      <th>gps_height</th>\n",
              "      <th>region_code</th>\n",
              "      <th>district_code</th>\n",
              "      <th>population</th>\n",
              "      <th>public_meeting</th>\n",
              "      <th>permit</th>\n",
              "      <th>funder_0</th>\n",
              "      <th>funder_A/co Germany</th>\n",
              "      <th>funder_Aar</th>\n",
              "      <th>funder_Abas Ka</th>\n",
              "      <th>funder_Abasia</th>\n",
              "      <th>funder_Abc-ihushi Development Cent</th>\n",
              "      <th>funder_Abd</th>\n",
              "      <th>funder_Abdala</th>\n",
              "      <th>funder_Abddwe</th>\n",
              "      <th>funder_Abdul</th>\n",
              "      <th>funder_Abood</th>\n",
              "      <th>funder_Abs</th>\n",
              "      <th>funder_Aco/germany</th>\n",
              "      <th>funder_Acord</th>\n",
              "      <th>funder_Acord Ngo</th>\n",
              "      <th>funder_Acra</th>\n",
              "      <th>funder_Act</th>\n",
              "      <th>funder_Act Mara</th>\n",
              "      <th>funder_Action Aid</th>\n",
              "      <th>funder_Action Contre La Faim</th>\n",
              "      <th>funder_Action In A</th>\n",
              "      <th>funder_Adap</th>\n",
              "      <th>funder_Adb</th>\n",
              "      <th>funder_Adf</th>\n",
              "      <th>funder_Adp</th>\n",
              "      <th>funder_Adp Bungu</th>\n",
              "      <th>funder_Adp Mombo</th>\n",
              "      <th>funder_Adp/w</th>\n",
              "      <th>funder_Adra</th>\n",
              "      <th>funder_Af</th>\n",
              "      <th>funder_Afdp</th>\n",
              "      <th>funder_Afric</th>\n",
              "      <th>funder_Africa</th>\n",
              "      <th>...</th>\n",
              "      <th>payment_pay when scheme fails</th>\n",
              "      <th>payment_unknown</th>\n",
              "      <th>water_quality_coloured</th>\n",
              "      <th>water_quality_fluoride</th>\n",
              "      <th>water_quality_fluoride abandoned</th>\n",
              "      <th>water_quality_milky</th>\n",
              "      <th>water_quality_salty</th>\n",
              "      <th>water_quality_salty abandoned</th>\n",
              "      <th>water_quality_soft</th>\n",
              "      <th>water_quality_unknown</th>\n",
              "      <th>quantity_dry</th>\n",
              "      <th>quantity_enough</th>\n",
              "      <th>quantity_insufficient</th>\n",
              "      <th>quantity_seasonal</th>\n",
              "      <th>quantity_unknown</th>\n",
              "      <th>source_dam</th>\n",
              "      <th>source_hand dtw</th>\n",
              "      <th>source_lake</th>\n",
              "      <th>source_machine dbh</th>\n",
              "      <th>source_other</th>\n",
              "      <th>source_rainwater harvesting</th>\n",
              "      <th>source_river</th>\n",
              "      <th>source_shallow well</th>\n",
              "      <th>source_spring</th>\n",
              "      <th>source_unknown</th>\n",
              "      <th>waterpoint_type_cattle trough</th>\n",
              "      <th>waterpoint_type_communal standpipe</th>\n",
              "      <th>waterpoint_type_communal standpipe multiple</th>\n",
              "      <th>waterpoint_type_dam</th>\n",
              "      <th>waterpoint_type_hand pump</th>\n",
              "      <th>waterpoint_type_improved spring</th>\n",
              "      <th>waterpoint_type_other</th>\n",
              "      <th>year_-1</th>\n",
              "      <th>year_1</th>\n",
              "      <th>year_2</th>\n",
              "      <th>year_3</th>\n",
              "      <th>year_4</th>\n",
              "      <th>year_5</th>\n",
              "      <th>year_6</th>\n",
              "      <th>status_group</th>\n",
              "    </tr>\n",
              "    <tr>\n",
              "      <th>id</th>\n",
              "      <th></th>\n",
              "      <th></th>\n",
              "      <th></th>\n",
              "      <th></th>\n",
              "      <th></th>\n",
              "      <th></th>\n",
              "      <th></th>\n",
              "      <th></th>\n",
              "      <th></th>\n",
              "      <th></th>\n",
              "      <th></th>\n",
              "      <th></th>\n",
              "      <th></th>\n",
              "      <th></th>\n",
              "      <th></th>\n",
              "      <th></th>\n",
              "      <th></th>\n",
              "      <th></th>\n",
              "      <th></th>\n",
              "      <th></th>\n",
              "      <th></th>\n",
              "      <th></th>\n",
              "      <th></th>\n",
              "      <th></th>\n",
              "      <th></th>\n",
              "      <th></th>\n",
              "      <th></th>\n",
              "      <th></th>\n",
              "      <th></th>\n",
              "      <th></th>\n",
              "      <th></th>\n",
              "      <th></th>\n",
              "      <th></th>\n",
              "      <th></th>\n",
              "      <th></th>\n",
              "      <th></th>\n",
              "      <th></th>\n",
              "      <th></th>\n",
              "      <th></th>\n",
              "      <th></th>\n",
              "      <th></th>\n",
              "      <th></th>\n",
              "      <th></th>\n",
              "      <th></th>\n",
              "      <th></th>\n",
              "      <th></th>\n",
              "      <th></th>\n",
              "      <th></th>\n",
              "      <th></th>\n",
              "      <th></th>\n",
              "      <th></th>\n",
              "      <th></th>\n",
              "      <th></th>\n",
              "      <th></th>\n",
              "      <th></th>\n",
              "      <th></th>\n",
              "      <th></th>\n",
              "      <th></th>\n",
              "      <th></th>\n",
              "      <th></th>\n",
              "      <th></th>\n",
              "      <th></th>\n",
              "      <th></th>\n",
              "      <th></th>\n",
              "      <th></th>\n",
              "      <th></th>\n",
              "      <th></th>\n",
              "      <th></th>\n",
              "      <th></th>\n",
              "      <th></th>\n",
              "      <th></th>\n",
              "      <th></th>\n",
              "      <th></th>\n",
              "      <th></th>\n",
              "      <th></th>\n",
              "      <th></th>\n",
              "      <th></th>\n",
              "      <th></th>\n",
              "      <th></th>\n",
              "      <th></th>\n",
              "      <th></th>\n",
              "    </tr>\n",
              "  </thead>\n",
              "  <tbody>\n",
              "    <tr>\n",
              "      <th>50785</th>\n",
              "      <td>0.0</td>\n",
              "      <td>1996</td>\n",
              "      <td>21</td>\n",
              "      <td>3</td>\n",
              "      <td>321</td>\n",
              "      <td>1.0</td>\n",
              "      <td>1.0</td>\n",
              "      <td>0</td>\n",
              "      <td>0</td>\n",
              "      <td>0</td>\n",
              "      <td>NaN</td>\n",
              "      <td>0</td>\n",
              "      <td>NaN</td>\n",
              "      <td>0</td>\n",
              "      <td>NaN</td>\n",
              "      <td>NaN</td>\n",
              "      <td>0</td>\n",
              "      <td>NaN</td>\n",
              "      <td>NaN</td>\n",
              "      <td>0</td>\n",
              "      <td>0</td>\n",
              "      <td>0</td>\n",
              "      <td>0</td>\n",
              "      <td>0</td>\n",
              "      <td>NaN</td>\n",
              "      <td>0</td>\n",
              "      <td>0</td>\n",
              "      <td>NaN</td>\n",
              "      <td>0</td>\n",
              "      <td>0</td>\n",
              "      <td>0</td>\n",
              "      <td>0</td>\n",
              "      <td>NaN</td>\n",
              "      <td>0</td>\n",
              "      <td>NaN</td>\n",
              "      <td>0</td>\n",
              "      <td>0</td>\n",
              "      <td>NaN</td>\n",
              "      <td>NaN</td>\n",
              "      <td>NaN</td>\n",
              "      <td>...</td>\n",
              "      <td>0</td>\n",
              "      <td>0</td>\n",
              "      <td>0</td>\n",
              "      <td>0</td>\n",
              "      <td>0</td>\n",
              "      <td>0</td>\n",
              "      <td>0</td>\n",
              "      <td>0</td>\n",
              "      <td>1</td>\n",
              "      <td>0</td>\n",
              "      <td>0</td>\n",
              "      <td>0</td>\n",
              "      <td>0</td>\n",
              "      <td>1</td>\n",
              "      <td>0</td>\n",
              "      <td>0</td>\n",
              "      <td>0</td>\n",
              "      <td>0</td>\n",
              "      <td>0</td>\n",
              "      <td>0</td>\n",
              "      <td>1</td>\n",
              "      <td>0</td>\n",
              "      <td>0</td>\n",
              "      <td>0</td>\n",
              "      <td>0</td>\n",
              "      <td>0</td>\n",
              "      <td>0</td>\n",
              "      <td>0</td>\n",
              "      <td>0</td>\n",
              "      <td>0</td>\n",
              "      <td>0</td>\n",
              "      <td>1</td>\n",
              "      <td>0</td>\n",
              "      <td>0</td>\n",
              "      <td>0</td>\n",
              "      <td>0</td>\n",
              "      <td>0</td>\n",
              "      <td>0</td>\n",
              "      <td>1</td>\n",
              "      <td>functional</td>\n",
              "    </tr>\n",
              "    <tr>\n",
              "      <th>51630</th>\n",
              "      <td>0.0</td>\n",
              "      <td>1569</td>\n",
              "      <td>2</td>\n",
              "      <td>2</td>\n",
              "      <td>300</td>\n",
              "      <td>1.0</td>\n",
              "      <td>1.0</td>\n",
              "      <td>0</td>\n",
              "      <td>0</td>\n",
              "      <td>0</td>\n",
              "      <td>NaN</td>\n",
              "      <td>0</td>\n",
              "      <td>NaN</td>\n",
              "      <td>0</td>\n",
              "      <td>NaN</td>\n",
              "      <td>NaN</td>\n",
              "      <td>0</td>\n",
              "      <td>NaN</td>\n",
              "      <td>NaN</td>\n",
              "      <td>0</td>\n",
              "      <td>0</td>\n",
              "      <td>0</td>\n",
              "      <td>0</td>\n",
              "      <td>0</td>\n",
              "      <td>NaN</td>\n",
              "      <td>0</td>\n",
              "      <td>0</td>\n",
              "      <td>NaN</td>\n",
              "      <td>0</td>\n",
              "      <td>0</td>\n",
              "      <td>0</td>\n",
              "      <td>0</td>\n",
              "      <td>NaN</td>\n",
              "      <td>0</td>\n",
              "      <td>NaN</td>\n",
              "      <td>0</td>\n",
              "      <td>0</td>\n",
              "      <td>NaN</td>\n",
              "      <td>NaN</td>\n",
              "      <td>NaN</td>\n",
              "      <td>...</td>\n",
              "      <td>0</td>\n",
              "      <td>0</td>\n",
              "      <td>0</td>\n",
              "      <td>0</td>\n",
              "      <td>0</td>\n",
              "      <td>0</td>\n",
              "      <td>0</td>\n",
              "      <td>0</td>\n",
              "      <td>1</td>\n",
              "      <td>0</td>\n",
              "      <td>0</td>\n",
              "      <td>0</td>\n",
              "      <td>1</td>\n",
              "      <td>0</td>\n",
              "      <td>0</td>\n",
              "      <td>0</td>\n",
              "      <td>0</td>\n",
              "      <td>0</td>\n",
              "      <td>0</td>\n",
              "      <td>0</td>\n",
              "      <td>0</td>\n",
              "      <td>0</td>\n",
              "      <td>0</td>\n",
              "      <td>1</td>\n",
              "      <td>0</td>\n",
              "      <td>0</td>\n",
              "      <td>1</td>\n",
              "      <td>0</td>\n",
              "      <td>0</td>\n",
              "      <td>0</td>\n",
              "      <td>0</td>\n",
              "      <td>0</td>\n",
              "      <td>0</td>\n",
              "      <td>0</td>\n",
              "      <td>0</td>\n",
              "      <td>0</td>\n",
              "      <td>1</td>\n",
              "      <td>0</td>\n",
              "      <td>0</td>\n",
              "      <td>functional</td>\n",
              "    </tr>\n",
              "    <tr>\n",
              "      <th>17168</th>\n",
              "      <td>0.0</td>\n",
              "      <td>1567</td>\n",
              "      <td>13</td>\n",
              "      <td>2</td>\n",
              "      <td>500</td>\n",
              "      <td>1.0</td>\n",
              "      <td>-1.0</td>\n",
              "      <td>0</td>\n",
              "      <td>0</td>\n",
              "      <td>0</td>\n",
              "      <td>NaN</td>\n",
              "      <td>0</td>\n",
              "      <td>NaN</td>\n",
              "      <td>0</td>\n",
              "      <td>NaN</td>\n",
              "      <td>NaN</td>\n",
              "      <td>0</td>\n",
              "      <td>NaN</td>\n",
              "      <td>NaN</td>\n",
              "      <td>0</td>\n",
              "      <td>0</td>\n",
              "      <td>0</td>\n",
              "      <td>0</td>\n",
              "      <td>0</td>\n",
              "      <td>NaN</td>\n",
              "      <td>0</td>\n",
              "      <td>0</td>\n",
              "      <td>NaN</td>\n",
              "      <td>0</td>\n",
              "      <td>0</td>\n",
              "      <td>0</td>\n",
              "      <td>0</td>\n",
              "      <td>NaN</td>\n",
              "      <td>0</td>\n",
              "      <td>NaN</td>\n",
              "      <td>0</td>\n",
              "      <td>0</td>\n",
              "      <td>NaN</td>\n",
              "      <td>NaN</td>\n",
              "      <td>NaN</td>\n",
              "      <td>...</td>\n",
              "      <td>0</td>\n",
              "      <td>0</td>\n",
              "      <td>0</td>\n",
              "      <td>0</td>\n",
              "      <td>0</td>\n",
              "      <td>0</td>\n",
              "      <td>0</td>\n",
              "      <td>0</td>\n",
              "      <td>1</td>\n",
              "      <td>0</td>\n",
              "      <td>0</td>\n",
              "      <td>0</td>\n",
              "      <td>1</td>\n",
              "      <td>0</td>\n",
              "      <td>0</td>\n",
              "      <td>0</td>\n",
              "      <td>0</td>\n",
              "      <td>0</td>\n",
              "      <td>0</td>\n",
              "      <td>0</td>\n",
              "      <td>1</td>\n",
              "      <td>0</td>\n",
              "      <td>0</td>\n",
              "      <td>0</td>\n",
              "      <td>0</td>\n",
              "      <td>0</td>\n",
              "      <td>0</td>\n",
              "      <td>0</td>\n",
              "      <td>0</td>\n",
              "      <td>0</td>\n",
              "      <td>0</td>\n",
              "      <td>1</td>\n",
              "      <td>0</td>\n",
              "      <td>0</td>\n",
              "      <td>0</td>\n",
              "      <td>0</td>\n",
              "      <td>0</td>\n",
              "      <td>1</td>\n",
              "      <td>0</td>\n",
              "      <td>functional</td>\n",
              "    </tr>\n",
              "    <tr>\n",
              "      <th>45559</th>\n",
              "      <td>0.0</td>\n",
              "      <td>267</td>\n",
              "      <td>80</td>\n",
              "      <td>43</td>\n",
              "      <td>250</td>\n",
              "      <td>-1.0</td>\n",
              "      <td>1.0</td>\n",
              "      <td>0</td>\n",
              "      <td>0</td>\n",
              "      <td>0</td>\n",
              "      <td>NaN</td>\n",
              "      <td>0</td>\n",
              "      <td>NaN</td>\n",
              "      <td>0</td>\n",
              "      <td>NaN</td>\n",
              "      <td>NaN</td>\n",
              "      <td>0</td>\n",
              "      <td>NaN</td>\n",
              "      <td>NaN</td>\n",
              "      <td>0</td>\n",
              "      <td>0</td>\n",
              "      <td>0</td>\n",
              "      <td>0</td>\n",
              "      <td>0</td>\n",
              "      <td>NaN</td>\n",
              "      <td>0</td>\n",
              "      <td>0</td>\n",
              "      <td>NaN</td>\n",
              "      <td>0</td>\n",
              "      <td>0</td>\n",
              "      <td>0</td>\n",
              "      <td>0</td>\n",
              "      <td>NaN</td>\n",
              "      <td>0</td>\n",
              "      <td>NaN</td>\n",
              "      <td>0</td>\n",
              "      <td>0</td>\n",
              "      <td>NaN</td>\n",
              "      <td>NaN</td>\n",
              "      <td>NaN</td>\n",
              "      <td>...</td>\n",
              "      <td>0</td>\n",
              "      <td>1</td>\n",
              "      <td>0</td>\n",
              "      <td>0</td>\n",
              "      <td>0</td>\n",
              "      <td>0</td>\n",
              "      <td>0</td>\n",
              "      <td>0</td>\n",
              "      <td>1</td>\n",
              "      <td>0</td>\n",
              "      <td>1</td>\n",
              "      <td>0</td>\n",
              "      <td>0</td>\n",
              "      <td>0</td>\n",
              "      <td>0</td>\n",
              "      <td>0</td>\n",
              "      <td>0</td>\n",
              "      <td>0</td>\n",
              "      <td>0</td>\n",
              "      <td>0</td>\n",
              "      <td>0</td>\n",
              "      <td>0</td>\n",
              "      <td>1</td>\n",
              "      <td>0</td>\n",
              "      <td>0</td>\n",
              "      <td>0</td>\n",
              "      <td>0</td>\n",
              "      <td>0</td>\n",
              "      <td>0</td>\n",
              "      <td>0</td>\n",
              "      <td>0</td>\n",
              "      <td>1</td>\n",
              "      <td>0</td>\n",
              "      <td>0</td>\n",
              "      <td>0</td>\n",
              "      <td>1</td>\n",
              "      <td>0</td>\n",
              "      <td>0</td>\n",
              "      <td>0</td>\n",
              "      <td>non functional</td>\n",
              "    </tr>\n",
              "    <tr>\n",
              "      <th>49871</th>\n",
              "      <td>500.0</td>\n",
              "      <td>1260</td>\n",
              "      <td>10</td>\n",
              "      <td>3</td>\n",
              "      <td>60</td>\n",
              "      <td>-1.0</td>\n",
              "      <td>1.0</td>\n",
              "      <td>0</td>\n",
              "      <td>0</td>\n",
              "      <td>0</td>\n",
              "      <td>NaN</td>\n",
              "      <td>0</td>\n",
              "      <td>NaN</td>\n",
              "      <td>0</td>\n",
              "      <td>NaN</td>\n",
              "      <td>NaN</td>\n",
              "      <td>0</td>\n",
              "      <td>NaN</td>\n",
              "      <td>NaN</td>\n",
              "      <td>0</td>\n",
              "      <td>0</td>\n",
              "      <td>0</td>\n",
              "      <td>0</td>\n",
              "      <td>0</td>\n",
              "      <td>NaN</td>\n",
              "      <td>0</td>\n",
              "      <td>0</td>\n",
              "      <td>NaN</td>\n",
              "      <td>0</td>\n",
              "      <td>0</td>\n",
              "      <td>0</td>\n",
              "      <td>0</td>\n",
              "      <td>NaN</td>\n",
              "      <td>0</td>\n",
              "      <td>NaN</td>\n",
              "      <td>0</td>\n",
              "      <td>0</td>\n",
              "      <td>NaN</td>\n",
              "      <td>NaN</td>\n",
              "      <td>NaN</td>\n",
              "      <td>...</td>\n",
              "      <td>0</td>\n",
              "      <td>0</td>\n",
              "      <td>0</td>\n",
              "      <td>0</td>\n",
              "      <td>0</td>\n",
              "      <td>0</td>\n",
              "      <td>0</td>\n",
              "      <td>0</td>\n",
              "      <td>1</td>\n",
              "      <td>0</td>\n",
              "      <td>0</td>\n",
              "      <td>1</td>\n",
              "      <td>0</td>\n",
              "      <td>0</td>\n",
              "      <td>0</td>\n",
              "      <td>0</td>\n",
              "      <td>0</td>\n",
              "      <td>0</td>\n",
              "      <td>0</td>\n",
              "      <td>0</td>\n",
              "      <td>0</td>\n",
              "      <td>0</td>\n",
              "      <td>0</td>\n",
              "      <td>1</td>\n",
              "      <td>0</td>\n",
              "      <td>0</td>\n",
              "      <td>1</td>\n",
              "      <td>0</td>\n",
              "      <td>0</td>\n",
              "      <td>0</td>\n",
              "      <td>0</td>\n",
              "      <td>0</td>\n",
              "      <td>0</td>\n",
              "      <td>0</td>\n",
              "      <td>0</td>\n",
              "      <td>0</td>\n",
              "      <td>1</td>\n",
              "      <td>0</td>\n",
              "      <td>0</td>\n",
              "      <td>functional</td>\n",
              "    </tr>\n",
              "  </tbody>\n",
              "</table>\n",
              "<p>5 rows × 4115 columns</p>\n",
              "</div>"
            ],
            "text/plain": [
              "       amount_tsh  gps_height  region_code  ...  year_5  year_6    status_group\n",
              "id                                          ...                                \n",
              "50785         0.0        1996           21  ...       0       1      functional\n",
              "51630         0.0        1569            2  ...       0       0      functional\n",
              "17168         0.0        1567           13  ...       1       0      functional\n",
              "45559         0.0         267           80  ...       0       0  non functional\n",
              "49871       500.0        1260           10  ...       0       0      functional\n",
              "\n",
              "[5 rows x 4115 columns]"
            ]
          },
          "metadata": {},
          "execution_count": 188
        }
      ]
    },
    {
      "cell_type": "code",
      "metadata": {
        "id": "bSR0Gqu2XWwj"
      },
      "source": [
        "test_val.to_csv('output.csv', columns = ['status_group'])"
      ],
      "execution_count": null,
      "outputs": []
    }
  ]
}